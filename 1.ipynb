{
 "cells": [
  {
   "cell_type": "code",
   "execution_count": 2,
   "metadata": {},
   "outputs": [],
   "source": [
    "import pandas as pd\n",
    "import matplotlib.pyplot as plt\n",
    "import numpy as np\n",
    "from tqdm import tqdm\n",
    "import os\n",
    "try:\n",
    "    from urllib.request import urlretrieve  # Python 3\n",
    "except ImportError:\n",
    "    from urllib import urlretrieve  # Python 2\n",
    "classes = pd.read_csv('./classes.csv')"
   ]
  },
  {
   "cell_type": "code",
   "execution_count": 3,
   "metadata": {},
   "outputs": [],
   "source": [
    "classes = pd.read_csv('./classes.csv')\n",
    "labelnames = classes['LabelName']\n",
    "classnames = classes['DisplayName']\n",
    "__imageids = []\n",
    "__imageids_and_bbox = {}\n",
    "imageids = []\n",
    "xmins = []\n",
    "ymins = []\n",
    "xmaxs = []\n",
    "ymaxs = []\n",
    "file_names = []\n",
    "imageurls = []\n",
    "imageurls_original = []\n",
    "type_of_data = []\n",
    "image_id = 0\n",
    "\n",
    "imageid_and_labelname = pd.read_csv(\n",
    "    './open_images_data/oidv6-train-annotations-human-imagelabels.csv')\n",
    "imageid_and_labelname.append(pd.read_csv(\n",
    "    './open_images_data/test-annotations-human-imagelabels-boxable.csv'))\n",
    "imageid_and_labelname.append(pd.read_csv(\n",
    "    './open_images_data/test-annotations-machine-imagelabels.csv'))\n",
    "imageid_and_labelname.append(pd.read_csv(\n",
    "    './open_images_data/train-annotations-human-imagelabels-boxable.csv'))\n",
    "imageid_and_labelname.append(pd.read_csv(\n",
    "    './open_images_data/train-annotations-machine-imagelabels.csv'))\n",
    "imageid_and_labelname.append(pd.read_csv(\n",
    "    './open_images_data/validation-annotations-human-imagelabels-boxable.csv'))\n",
    "imageid_and_labelname.append(pd.read_csv(\n",
    "    './open_images_data/validation-annotations-machine-imagelabels.csv'))\n"
   ]
  },
  {
   "cell_type": "code",
   "execution_count": null,
   "metadata": {},
   "outputs": [],
   "source": [
    "labelnames = labelnames.tolist()"
   ]
  },
  {
   "cell_type": "code",
   "execution_count": null,
   "metadata": {},
   "outputs": [
    {
     "ename": "NameError",
     "evalue": "name 'tqdm' is not defined",
     "output_type": "error",
     "traceback": [
      "\u001b[0;31m---------------------------------------------------------------------------\u001b[0m",
      "\u001b[0;31mNameError\u001b[0m                                 Traceback (most recent call last)",
      "\u001b[0;32m<ipython-input-1-9d9914098b70>\u001b[0m in \u001b[0;36m<module>\u001b[0;34m\u001b[0m\n\u001b[0;32m----> 1\u001b[0;31m \u001b[0;32mfor\u001b[0m \u001b[0mimageid\u001b[0m\u001b[0;34m,\u001b[0m \u001b[0mlabelname\u001b[0m \u001b[0;32min\u001b[0m \u001b[0mzip\u001b[0m\u001b[0;34m(\u001b[0m\u001b[0mtqdm\u001b[0m\u001b[0;34m(\u001b[0m\u001b[0mimageid_and_labelname\u001b[0m\u001b[0;34m[\u001b[0m\u001b[0;34m'ImageID'\u001b[0m\u001b[0;34m]\u001b[0m\u001b[0;34m)\u001b[0m\u001b[0;34m,\u001b[0m \u001b[0mimageid_and_labelname\u001b[0m\u001b[0;34m[\u001b[0m\u001b[0;34m'LabelName'\u001b[0m\u001b[0;34m]\u001b[0m\u001b[0;34m)\u001b[0m\u001b[0;34m[\u001b[0m\u001b[0;34m:\u001b[0m\u001b[0;36m2500\u001b[0m\u001b[0;34m]\u001b[0m\u001b[0;34m:\u001b[0m\u001b[0;34m\u001b[0m\u001b[0;34m\u001b[0m\u001b[0m\n\u001b[0m\u001b[1;32m      2\u001b[0m     \u001b[0;32mif\u001b[0m \u001b[0mlabelname\u001b[0m \u001b[0;32min\u001b[0m \u001b[0mlabelnames\u001b[0m\u001b[0;34m:\u001b[0m\u001b[0;34m\u001b[0m\u001b[0;34m\u001b[0m\u001b[0m\n\u001b[1;32m      3\u001b[0m         \u001b[0mprint\u001b[0m\u001b[0;34m(\u001b[0m\u001b[0mimageid\u001b[0m\u001b[0;34m)\u001b[0m\u001b[0;34m\u001b[0m\u001b[0;34m\u001b[0m\u001b[0m\n\u001b[1;32m      4\u001b[0m         \u001b[0m__imageids\u001b[0m\u001b[0;34m.\u001b[0m\u001b[0mappend\u001b[0m\u001b[0;34m(\u001b[0m\u001b[0mimageid\u001b[0m\u001b[0;34m)\u001b[0m\u001b[0;34m\u001b[0m\u001b[0;34m\u001b[0m\u001b[0m\n",
      "\u001b[0;31mNameError\u001b[0m: name 'tqdm' is not defined"
     ]
    }
   ],
   "source": [
    "for imageid, labelname in zip(tqdm(imageid_and_labelname['ImageID']), imageid_and_labelname['LabelName'])[:2500]:\n",
    "    if labelname in labelnames:\n",
    "        print(imageid)\n",
    "        __imageids.append(imageid)"
   ]
  },
  {
   "cell_type": "code",
   "execution_count": null,
   "metadata": {},
   "outputs": [],
   "source": [
    "xmin_ymin_xmax_ymax = pd.read_csv(\n",
    "    './open_images_data/oidv6-train-annotations-bbox.csv')\n",
    "xmin_ymin_xmax_ymax.append(pd.read_csv(\n",
    "    './open_images_data/test-annotations-bbox.csv'))\n",
    "xmin_ymin_xmax_ymax.append(pd.read_csv(\n",
    "    './open_images_data/validation-annotations-bbox.csv'))\n",
    "for i in tqdm(range(len(xmin_ymin_xmax_ymax))):\n",
    "    info = xmin_ymin_xmax_ymax.iloc[i]\n",
    "    if info['ImageID'] in __imageids:\n",
    "        # __imageids_and_bbox[info['ImageID']] = [\n",
    "        #     info['XMin'], info['YMin'], info['XMax'], info['YMax']]\n",
    "        Thread(target=append_dict, args=(__imageids_and_bbox, info['ImageID'], [\n",
    "               info['XMin'], info['YMin'], info['XMax'], info['YMax']])).start()"
   ]
  },
  {
   "cell_type": "code",
   "execution_count": null,
   "metadata": {},
   "outputs": [],
   "source": []
  }
 ],
 "metadata": {
  "interpreter": {
   "hash": "7338908a6901250255932625ba4b5c32a9d91564d69b39dc5095100e5c96b0b4"
  },
  "kernelspec": {
   "display_name": "Python 3.8.8 64-bit ('base': conda)",
   "name": "python3"
  },
  "language_info": {
   "codemirror_mode": {
    "name": "ipython",
    "version": 3
   },
   "file_extension": ".py",
   "mimetype": "text/x-python",
   "name": "python",
   "nbconvert_exporter": "python",
   "pygments_lexer": "ipython3",
   "version": "3.8.8"
  },
  "orig_nbformat": 4
 },
 "nbformat": 4,
 "nbformat_minor": 2
}
