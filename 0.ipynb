{
 "cells": [
  {
   "cell_type": "code",
   "execution_count": 17,
   "metadata": {},
   "outputs": [],
   "source": [
    "import pandas as pd\n",
    "from tqdm import tqdm\n",
    "import numpy as np\n",
    "import os\n"
   ]
  },
  {
   "cell_type": "code",
   "execution_count": 18,
   "metadata": {},
   "outputs": [],
   "source": [
    "data = pd.read_csv('./open_images_data/oidv6-class-descriptions.csv')\n"
   ]
  },
  {
   "cell_type": "code",
   "execution_count": 19,
   "metadata": {},
   "outputs": [
    {
     "data": {
      "text/html": [
       "<div>\n",
       "<style scoped>\n",
       "    .dataframe tbody tr th:only-of-type {\n",
       "        vertical-align: middle;\n",
       "    }\n",
       "\n",
       "    .dataframe tbody tr th {\n",
       "        vertical-align: top;\n",
       "    }\n",
       "\n",
       "    .dataframe thead th {\n",
       "        text-align: right;\n",
       "    }\n",
       "</style>\n",
       "<table border=\"1\" class=\"dataframe\">\n",
       "  <thead>\n",
       "    <tr style=\"text-align: right;\">\n",
       "      <th></th>\n",
       "      <th>LabelName</th>\n",
       "      <th>DisplayName</th>\n",
       "    </tr>\n",
       "  </thead>\n",
       "  <tbody>\n",
       "    <tr>\n",
       "      <th>0</th>\n",
       "      <td>/m/0100nhbf</td>\n",
       "      <td>Sprenger's tulip</td>\n",
       "    </tr>\n",
       "    <tr>\n",
       "      <th>1</th>\n",
       "      <td>/m/0104x9kv</td>\n",
       "      <td>Vinegret</td>\n",
       "    </tr>\n",
       "    <tr>\n",
       "      <th>2</th>\n",
       "      <td>/m/0105jzwx</td>\n",
       "      <td>Dabu-dabu</td>\n",
       "    </tr>\n",
       "    <tr>\n",
       "      <th>3</th>\n",
       "      <td>/m/0105ld7g</td>\n",
       "      <td>Pistachio ice cream</td>\n",
       "    </tr>\n",
       "    <tr>\n",
       "      <th>4</th>\n",
       "      <td>/m/0105lxy5</td>\n",
       "      <td>Woku</td>\n",
       "    </tr>\n",
       "    <tr>\n",
       "      <th>...</th>\n",
       "      <td>...</td>\n",
       "      <td>...</td>\n",
       "    </tr>\n",
       "    <tr>\n",
       "      <th>19989</th>\n",
       "      <td>/m/0zrpfhj</td>\n",
       "      <td>Throwing</td>\n",
       "    </tr>\n",
       "    <tr>\n",
       "      <th>19990</th>\n",
       "      <td>/m/0zrrls2</td>\n",
       "      <td>Red dahlia</td>\n",
       "    </tr>\n",
       "    <tr>\n",
       "      <th>19991</th>\n",
       "      <td>/m/0zrthkd</td>\n",
       "      <td>Brine (Food)</td>\n",
       "    </tr>\n",
       "    <tr>\n",
       "      <th>19992</th>\n",
       "      <td>/m/0zrv5th</td>\n",
       "      <td>Lamborghini huracán</td>\n",
       "    </tr>\n",
       "    <tr>\n",
       "      <th>19993</th>\n",
       "      <td>/m/0zvk5</td>\n",
       "      <td>Helmet</td>\n",
       "    </tr>\n",
       "  </tbody>\n",
       "</table>\n",
       "<p>19994 rows × 2 columns</p>\n",
       "</div>"
      ],
      "text/plain": [
       "         LabelName          DisplayName\n",
       "0      /m/0100nhbf     Sprenger's tulip\n",
       "1      /m/0104x9kv             Vinegret\n",
       "2      /m/0105jzwx            Dabu-dabu\n",
       "3      /m/0105ld7g  Pistachio ice cream\n",
       "4      /m/0105lxy5                 Woku\n",
       "...            ...                  ...\n",
       "19989   /m/0zrpfhj             Throwing\n",
       "19990   /m/0zrrls2           Red dahlia\n",
       "19991   /m/0zrthkd         Brine (Food)\n",
       "19992   /m/0zrv5th  Lamborghini huracán\n",
       "19993     /m/0zvk5               Helmet\n",
       "\n",
       "[19994 rows x 2 columns]"
      ]
     },
     "execution_count": 19,
     "metadata": {},
     "output_type": "execute_result"
    }
   ],
   "source": [
    "data"
   ]
  },
  {
   "cell_type": "code",
   "execution_count": 20,
   "metadata": {},
   "outputs": [],
   "source": [
    "classes = [\n",
    "    'Toilet',\n",
    "    'Swimming pool',\n",
    "    'Bed',\n",
    "    'Billard table',\n",
    "    'Sink',\n",
    "    'Fountain',\n",
    "    'Oven',\n",
    "    'Ceiling fan',\n",
    "    'Television',\n",
    "    'Microwave oven',\n",
    "    'Gas stove',\n",
    "    'Refrigerator',\n",
    "    'Kitchen & dining room table',\n",
    "    'Washing machine',\n",
    "    'Bathtub',\n",
    "    'Stairs',\n",
    "    'Fireplace',\n",
    "    'Pillow',\n",
    "    'Mirror',\n",
    "    'Shower',\n",
    "    'Couch',\n",
    "    'Countertop',\n",
    "    'Coffeemaker',\n",
    "    'Dishwasher',\n",
    "    'Sofa bed',\n",
    "    'Tree house',\n",
    "    'Towel',\n",
    "    'Porch',\n",
    "    'Wine rack',\n",
    "    'Jacuzzi'\n",
    "]\n"
   ]
  },
  {
   "cell_type": "code",
   "execution_count": 21,
   "metadata": {},
   "outputs": [],
   "source": [
    "new_data = {'LabelName': [], 'DisplayName': []}\n"
   ]
  },
  {
   "cell_type": "code",
   "execution_count": 22,
   "metadata": {},
   "outputs": [],
   "source": [
    "displaynames = data['DisplayName']\n",
    "labelnames = data['LabelName']"
   ]
  },
  {
   "cell_type": "code",
   "execution_count": 23,
   "metadata": {},
   "outputs": [
    {
     "name": "stderr",
     "output_type": "stream",
     "text": [
      "100%|██████████| 19994/19994 [00:00<00:00, 1320353.22it/s]\n"
     ]
    }
   ],
   "source": [
    "for labelname,displayname in zip(tqdm(labelnames),displaynames):\n",
    "    if displayname in classes:\n",
    "        new_data['DisplayName'].append(displayname)\n",
    "        new_data['LabelName'].append(labelname)"
   ]
  },
  {
   "cell_type": "code",
   "execution_count": 24,
   "metadata": {},
   "outputs": [
    {
     "data": {
      "text/plain": [
       "30"
      ]
     },
     "execution_count": 24,
     "metadata": {},
     "output_type": "execute_result"
    }
   ],
   "source": [
    "len(classes)"
   ]
  },
  {
   "cell_type": "code",
   "execution_count": 25,
   "metadata": {},
   "outputs": [
    {
     "data": {
      "text/plain": [
       "29"
      ]
     },
     "execution_count": 25,
     "metadata": {},
     "output_type": "execute_result"
    }
   ],
   "source": [
    "len(new_data['DisplayName'])"
   ]
  },
  {
   "cell_type": "code",
   "execution_count": 26,
   "metadata": {},
   "outputs": [],
   "source": [
    "data = pd.DataFrame(new_data)"
   ]
  },
  {
   "cell_type": "code",
   "execution_count": 27,
   "metadata": {},
   "outputs": [],
   "source": [
    "data.to_csv('./classes.csv')"
   ]
  },
  {
   "cell_type": "code",
   "execution_count": null,
   "metadata": {},
   "outputs": [],
   "source": []
  }
 ],
 "metadata": {
  "interpreter": {
   "hash": "7338908a6901250255932625ba4b5c32a9d91564d69b39dc5095100e5c96b0b4"
  },
  "kernelspec": {
   "display_name": "Python 3.8.8 64-bit ('base': conda)",
   "name": "python3"
  },
  "language_info": {
   "codemirror_mode": {
    "name": "ipython",
    "version": 3
   },
   "file_extension": ".py",
   "mimetype": "text/x-python",
   "name": "python",
   "nbconvert_exporter": "python",
   "pygments_lexer": "ipython3",
   "version": "3.8.8"
  },
  "orig_nbformat": 4
 },
 "nbformat": 4,
 "nbformat_minor": 2
}
